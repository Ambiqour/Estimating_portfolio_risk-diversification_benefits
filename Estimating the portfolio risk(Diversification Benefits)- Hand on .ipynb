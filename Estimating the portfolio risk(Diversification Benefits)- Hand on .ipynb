{
 "cells": [
  {
   "cell_type": "markdown",
   "id": "026e3feb",
   "metadata": {},
   "source": [
    "## Portfolio risk Estimation: Hands-on Approach\n",
    "### Compiler: Mashele Given Phazamisa "
   ]
  },
  {
   "cell_type": "code",
   "execution_count": 1,
   "id": "f385481c",
   "metadata": {},
   "outputs": [],
   "source": [
    "## Import the neccesary libraries\n",
    "import pandas as pd\n",
    "import numpy as np"
   ]
  },
  {
   "cell_type": "code",
   "execution_count": 50,
   "id": "8390bab7",
   "metadata": {},
   "outputs": [],
   "source": [
    "# Lets read the stock price data\n",
    "data = pd.read_csv('stock_prices_data1.csv',sep=\";\")"
   ]
  },
  {
   "cell_type": "code",
   "execution_count": 51,
   "id": "5310bcd8",
   "metadata": {},
   "outputs": [
    {
     "data": {
      "text/html": [
       "<div>\n",
       "<style scoped>\n",
       "    .dataframe tbody tr th:only-of-type {\n",
       "        vertical-align: middle;\n",
       "    }\n",
       "\n",
       "    .dataframe tbody tr th {\n",
       "        vertical-align: top;\n",
       "    }\n",
       "\n",
       "    .dataframe thead th {\n",
       "        text-align: right;\n",
       "    }\n",
       "</style>\n",
       "<table border=\"1\" class=\"dataframe\">\n",
       "  <thead>\n",
       "    <tr style=\"text-align: right;\">\n",
       "      <th></th>\n",
       "      <th>Date</th>\n",
       "      <th>SPY</th>\n",
       "      <th>BND</th>\n",
       "      <th>GLD</th>\n",
       "      <th>NFLX</th>\n",
       "      <th>VTI</th>\n",
       "      <th>IBM</th>\n",
       "      <th>AAPL</th>\n",
       "      <th>TSLA</th>\n",
       "      <th>VZ</th>\n",
       "      <th>GE</th>\n",
       "    </tr>\n",
       "  </thead>\n",
       "  <tbody>\n",
       "    <tr>\n",
       "      <th>0</th>\n",
       "      <td>2019/01/30 00:00</td>\n",
       "      <td>267.579987</td>\n",
       "      <td>79.720001</td>\n",
       "      <td>124.690002</td>\n",
       "      <td>340.660004</td>\n",
       "      <td>137.320007</td>\n",
       "      <td>128.470367</td>\n",
       "      <td>41.312500</td>\n",
       "      <td>20.584667</td>\n",
       "      <td>54.000000</td>\n",
       "      <td>54.644810</td>\n",
       "    </tr>\n",
       "    <tr>\n",
       "      <th>1</th>\n",
       "      <td>2019/01/31 00:00</td>\n",
       "      <td>269.929993</td>\n",
       "      <td>80.089996</td>\n",
       "      <td>124.750000</td>\n",
       "      <td>339.500000</td>\n",
       "      <td>138.529999</td>\n",
       "      <td>128.508606</td>\n",
       "      <td>41.610001</td>\n",
       "      <td>20.468000</td>\n",
       "      <td>55.060001</td>\n",
       "      <td>61.010029</td>\n",
       "    </tr>\n",
       "    <tr>\n",
       "      <th>2</th>\n",
       "      <td>2019/02/01 00:00</td>\n",
       "      <td>270.059998</td>\n",
       "      <td>79.669998</td>\n",
       "      <td>124.500000</td>\n",
       "      <td>339.850006</td>\n",
       "      <td>138.729996</td>\n",
       "      <td>128.202683</td>\n",
       "      <td>41.630001</td>\n",
       "      <td>20.813999</td>\n",
       "      <td>54.549999</td>\n",
       "      <td>61.190174</td>\n",
       "    </tr>\n",
       "    <tr>\n",
       "      <th>3</th>\n",
       "      <td>2019/02/04 00:00</td>\n",
       "      <td>271.959992</td>\n",
       "      <td>79.599998</td>\n",
       "      <td>123.959999</td>\n",
       "      <td>351.339996</td>\n",
       "      <td>139.720001</td>\n",
       "      <td>129.244736</td>\n",
       "      <td>42.812500</td>\n",
       "      <td>20.859333</td>\n",
       "      <td>54.040001</td>\n",
       "      <td>61.310272</td>\n",
       "    </tr>\n",
       "    <tr>\n",
       "      <th>4</th>\n",
       "      <td>2019/02/05 00:00</td>\n",
       "      <td>273.100006</td>\n",
       "      <td>79.769997</td>\n",
       "      <td>124.279999</td>\n",
       "      <td>355.809998</td>\n",
       "      <td>140.300003</td>\n",
       "      <td>129.588913</td>\n",
       "      <td>43.544998</td>\n",
       "      <td>21.423332</td>\n",
       "      <td>54.139999</td>\n",
       "      <td>63.832344</td>\n",
       "    </tr>\n",
       "  </tbody>\n",
       "</table>\n",
       "</div>"
      ],
      "text/plain": [
       "               Date         SPY        BND         GLD        NFLX  \\\n",
       "0  2019/01/30 00:00  267.579987  79.720001  124.690002  340.660004   \n",
       "1  2019/01/31 00:00  269.929993  80.089996  124.750000  339.500000   \n",
       "2  2019/02/01 00:00  270.059998  79.669998  124.500000  339.850006   \n",
       "3  2019/02/04 00:00  271.959992  79.599998  123.959999  351.339996   \n",
       "4  2019/02/05 00:00  273.100006  79.769997  124.279999  355.809998   \n",
       "\n",
       "          VTI         IBM       AAPL       TSLA         VZ         GE  \n",
       "0  137.320007  128.470367  41.312500  20.584667  54.000000  54.644810  \n",
       "1  138.529999  128.508606  41.610001  20.468000  55.060001  61.010029  \n",
       "2  138.729996  128.202683  41.630001  20.813999  54.549999  61.190174  \n",
       "3  139.720001  129.244736  42.812500  20.859333  54.040001  61.310272  \n",
       "4  140.300003  129.588913  43.544998  21.423332  54.139999  63.832344  "
      ]
     },
     "execution_count": 51,
     "metadata": {},
     "output_type": "execute_result"
    }
   ],
   "source": [
    "# Lets display the first five rows of the 10 stock prices dataset\n",
    "data.head()"
   ]
  },
  {
   "cell_type": "code",
   "execution_count": 52,
   "id": "30b27f65",
   "metadata": {},
   "outputs": [
    {
     "name": "stdout",
     "output_type": "stream",
     "text": [
      "<class 'pandas.core.frame.DataFrame'>\n",
      "RangeIndex: 1257 entries, 0 to 1256\n",
      "Data columns (total 11 columns):\n",
      " #   Column  Non-Null Count  Dtype  \n",
      "---  ------  --------------  -----  \n",
      " 0   Date    1257 non-null   object \n",
      " 1   SPY     1257 non-null   float64\n",
      " 2   BND     1257 non-null   float64\n",
      " 3   GLD     1257 non-null   float64\n",
      " 4   NFLX    1257 non-null   float64\n",
      " 5   VTI     1257 non-null   float64\n",
      " 6   IBM     1257 non-null   float64\n",
      " 7   AAPL    1257 non-null   float64\n",
      " 8   TSLA    1257 non-null   float64\n",
      " 9   VZ      1257 non-null   float64\n",
      " 10  GE      1257 non-null   float64\n",
      "dtypes: float64(10), object(1)\n",
      "memory usage: 108.1+ KB\n"
     ]
    }
   ],
   "source": [
    "## Lets check the dataset types\n",
    "data.info()"
   ]
  },
  {
   "cell_type": "code",
   "execution_count": 53,
   "id": "81c0e68b",
   "metadata": {},
   "outputs": [],
   "source": [
    "### Lets change the date to a datetime format\n",
    "data['Date'] = pd.to_datetime(data['Date'])"
   ]
  },
  {
   "cell_type": "code",
   "execution_count": 54,
   "id": "7c6e69d9",
   "metadata": {},
   "outputs": [
    {
     "name": "stdout",
     "output_type": "stream",
     "text": [
      "<class 'pandas.core.frame.DataFrame'>\n",
      "RangeIndex: 1257 entries, 0 to 1256\n",
      "Data columns (total 11 columns):\n",
      " #   Column  Non-Null Count  Dtype         \n",
      "---  ------  --------------  -----         \n",
      " 0   Date    1257 non-null   datetime64[ns]\n",
      " 1   SPY     1257 non-null   float64       \n",
      " 2   BND     1257 non-null   float64       \n",
      " 3   GLD     1257 non-null   float64       \n",
      " 4   NFLX    1257 non-null   float64       \n",
      " 5   VTI     1257 non-null   float64       \n",
      " 6   IBM     1257 non-null   float64       \n",
      " 7   AAPL    1257 non-null   float64       \n",
      " 8   TSLA    1257 non-null   float64       \n",
      " 9   VZ      1257 non-null   float64       \n",
      " 10  GE      1257 non-null   float64       \n",
      "dtypes: datetime64[ns](1), float64(10)\n",
      "memory usage: 108.1 KB\n"
     ]
    }
   ],
   "source": [
    "data.info()"
   ]
  },
  {
   "cell_type": "code",
   "execution_count": 55,
   "id": "fbfd693d",
   "metadata": {},
   "outputs": [
    {
     "data": {
      "text/html": [
       "<div>\n",
       "<style scoped>\n",
       "    .dataframe tbody tr th:only-of-type {\n",
       "        vertical-align: middle;\n",
       "    }\n",
       "\n",
       "    .dataframe tbody tr th {\n",
       "        vertical-align: top;\n",
       "    }\n",
       "\n",
       "    .dataframe thead th {\n",
       "        text-align: right;\n",
       "    }\n",
       "</style>\n",
       "<table border=\"1\" class=\"dataframe\">\n",
       "  <thead>\n",
       "    <tr style=\"text-align: right;\">\n",
       "      <th></th>\n",
       "      <th>Date</th>\n",
       "      <th>SPY</th>\n",
       "      <th>BND</th>\n",
       "      <th>GLD</th>\n",
       "      <th>NFLX</th>\n",
       "      <th>VTI</th>\n",
       "      <th>IBM</th>\n",
       "      <th>AAPL</th>\n",
       "      <th>TSLA</th>\n",
       "      <th>VZ</th>\n",
       "      <th>GE</th>\n",
       "    </tr>\n",
       "  </thead>\n",
       "  <tbody>\n",
       "    <tr>\n",
       "      <th>0</th>\n",
       "      <td>2019-01-30</td>\n",
       "      <td>267.579987</td>\n",
       "      <td>79.720001</td>\n",
       "      <td>124.690002</td>\n",
       "      <td>340.660004</td>\n",
       "      <td>137.320007</td>\n",
       "      <td>128.470367</td>\n",
       "      <td>41.312500</td>\n",
       "      <td>20.584667</td>\n",
       "      <td>54.000000</td>\n",
       "      <td>54.644810</td>\n",
       "    </tr>\n",
       "    <tr>\n",
       "      <th>1</th>\n",
       "      <td>2019-01-31</td>\n",
       "      <td>269.929993</td>\n",
       "      <td>80.089996</td>\n",
       "      <td>124.750000</td>\n",
       "      <td>339.500000</td>\n",
       "      <td>138.529999</td>\n",
       "      <td>128.508606</td>\n",
       "      <td>41.610001</td>\n",
       "      <td>20.468000</td>\n",
       "      <td>55.060001</td>\n",
       "      <td>61.010029</td>\n",
       "    </tr>\n",
       "    <tr>\n",
       "      <th>2</th>\n",
       "      <td>2019-02-01</td>\n",
       "      <td>270.059998</td>\n",
       "      <td>79.669998</td>\n",
       "      <td>124.500000</td>\n",
       "      <td>339.850006</td>\n",
       "      <td>138.729996</td>\n",
       "      <td>128.202683</td>\n",
       "      <td>41.630001</td>\n",
       "      <td>20.813999</td>\n",
       "      <td>54.549999</td>\n",
       "      <td>61.190174</td>\n",
       "    </tr>\n",
       "    <tr>\n",
       "      <th>3</th>\n",
       "      <td>2019-02-04</td>\n",
       "      <td>271.959992</td>\n",
       "      <td>79.599998</td>\n",
       "      <td>123.959999</td>\n",
       "      <td>351.339996</td>\n",
       "      <td>139.720001</td>\n",
       "      <td>129.244736</td>\n",
       "      <td>42.812500</td>\n",
       "      <td>20.859333</td>\n",
       "      <td>54.040001</td>\n",
       "      <td>61.310272</td>\n",
       "    </tr>\n",
       "    <tr>\n",
       "      <th>4</th>\n",
       "      <td>2019-02-05</td>\n",
       "      <td>273.100006</td>\n",
       "      <td>79.769997</td>\n",
       "      <td>124.279999</td>\n",
       "      <td>355.809998</td>\n",
       "      <td>140.300003</td>\n",
       "      <td>129.588913</td>\n",
       "      <td>43.544998</td>\n",
       "      <td>21.423332</td>\n",
       "      <td>54.139999</td>\n",
       "      <td>63.832344</td>\n",
       "    </tr>\n",
       "  </tbody>\n",
       "</table>\n",
       "</div>"
      ],
      "text/plain": [
       "        Date         SPY        BND         GLD        NFLX         VTI  \\\n",
       "0 2019-01-30  267.579987  79.720001  124.690002  340.660004  137.320007   \n",
       "1 2019-01-31  269.929993  80.089996  124.750000  339.500000  138.529999   \n",
       "2 2019-02-01  270.059998  79.669998  124.500000  339.850006  138.729996   \n",
       "3 2019-02-04  271.959992  79.599998  123.959999  351.339996  139.720001   \n",
       "4 2019-02-05  273.100006  79.769997  124.279999  355.809998  140.300003   \n",
       "\n",
       "          IBM       AAPL       TSLA         VZ         GE  \n",
       "0  128.470367  41.312500  20.584667  54.000000  54.644810  \n",
       "1  128.508606  41.610001  20.468000  55.060001  61.010029  \n",
       "2  128.202683  41.630001  20.813999  54.549999  61.190174  \n",
       "3  129.244736  42.812500  20.859333  54.040001  61.310272  \n",
       "4  129.588913  43.544998  21.423332  54.139999  63.832344  "
      ]
     },
     "execution_count": 55,
     "metadata": {},
     "output_type": "execute_result"
    }
   ],
   "source": [
    "data.head()"
   ]
  },
  {
   "cell_type": "code",
   "execution_count": 56,
   "id": "05fd9942",
   "metadata": {},
   "outputs": [],
   "source": [
    "## Lets set the index as date\n",
    "data.set_index('Date',inplace=True)"
   ]
  },
  {
   "cell_type": "code",
   "execution_count": 57,
   "id": "c6aac763",
   "metadata": {},
   "outputs": [
    {
     "data": {
      "text/html": [
       "<div>\n",
       "<style scoped>\n",
       "    .dataframe tbody tr th:only-of-type {\n",
       "        vertical-align: middle;\n",
       "    }\n",
       "\n",
       "    .dataframe tbody tr th {\n",
       "        vertical-align: top;\n",
       "    }\n",
       "\n",
       "    .dataframe thead th {\n",
       "        text-align: right;\n",
       "    }\n",
       "</style>\n",
       "<table border=\"1\" class=\"dataframe\">\n",
       "  <thead>\n",
       "    <tr style=\"text-align: right;\">\n",
       "      <th></th>\n",
       "      <th>SPY</th>\n",
       "      <th>BND</th>\n",
       "      <th>GLD</th>\n",
       "      <th>NFLX</th>\n",
       "      <th>VTI</th>\n",
       "      <th>IBM</th>\n",
       "      <th>AAPL</th>\n",
       "      <th>TSLA</th>\n",
       "      <th>VZ</th>\n",
       "      <th>GE</th>\n",
       "    </tr>\n",
       "    <tr>\n",
       "      <th>Date</th>\n",
       "      <th></th>\n",
       "      <th></th>\n",
       "      <th></th>\n",
       "      <th></th>\n",
       "      <th></th>\n",
       "      <th></th>\n",
       "      <th></th>\n",
       "      <th></th>\n",
       "      <th></th>\n",
       "      <th></th>\n",
       "    </tr>\n",
       "  </thead>\n",
       "  <tbody>\n",
       "    <tr>\n",
       "      <th>2019-01-30</th>\n",
       "      <td>267.579987</td>\n",
       "      <td>79.720001</td>\n",
       "      <td>124.690002</td>\n",
       "      <td>340.660004</td>\n",
       "      <td>137.320007</td>\n",
       "      <td>128.470367</td>\n",
       "      <td>41.312500</td>\n",
       "      <td>20.584667</td>\n",
       "      <td>54.000000</td>\n",
       "      <td>54.644810</td>\n",
       "    </tr>\n",
       "    <tr>\n",
       "      <th>2019-01-31</th>\n",
       "      <td>269.929993</td>\n",
       "      <td>80.089996</td>\n",
       "      <td>124.750000</td>\n",
       "      <td>339.500000</td>\n",
       "      <td>138.529999</td>\n",
       "      <td>128.508606</td>\n",
       "      <td>41.610001</td>\n",
       "      <td>20.468000</td>\n",
       "      <td>55.060001</td>\n",
       "      <td>61.010029</td>\n",
       "    </tr>\n",
       "    <tr>\n",
       "      <th>2019-02-01</th>\n",
       "      <td>270.059998</td>\n",
       "      <td>79.669998</td>\n",
       "      <td>124.500000</td>\n",
       "      <td>339.850006</td>\n",
       "      <td>138.729996</td>\n",
       "      <td>128.202683</td>\n",
       "      <td>41.630001</td>\n",
       "      <td>20.813999</td>\n",
       "      <td>54.549999</td>\n",
       "      <td>61.190174</td>\n",
       "    </tr>\n",
       "    <tr>\n",
       "      <th>2019-02-04</th>\n",
       "      <td>271.959992</td>\n",
       "      <td>79.599998</td>\n",
       "      <td>123.959999</td>\n",
       "      <td>351.339996</td>\n",
       "      <td>139.720001</td>\n",
       "      <td>129.244736</td>\n",
       "      <td>42.812500</td>\n",
       "      <td>20.859333</td>\n",
       "      <td>54.040001</td>\n",
       "      <td>61.310272</td>\n",
       "    </tr>\n",
       "    <tr>\n",
       "      <th>2019-02-05</th>\n",
       "      <td>273.100006</td>\n",
       "      <td>79.769997</td>\n",
       "      <td>124.279999</td>\n",
       "      <td>355.809998</td>\n",
       "      <td>140.300003</td>\n",
       "      <td>129.588913</td>\n",
       "      <td>43.544998</td>\n",
       "      <td>21.423332</td>\n",
       "      <td>54.139999</td>\n",
       "      <td>63.832344</td>\n",
       "    </tr>\n",
       "  </tbody>\n",
       "</table>\n",
       "</div>"
      ],
      "text/plain": [
       "                   SPY        BND         GLD        NFLX         VTI  \\\n",
       "Date                                                                    \n",
       "2019-01-30  267.579987  79.720001  124.690002  340.660004  137.320007   \n",
       "2019-01-31  269.929993  80.089996  124.750000  339.500000  138.529999   \n",
       "2019-02-01  270.059998  79.669998  124.500000  339.850006  138.729996   \n",
       "2019-02-04  271.959992  79.599998  123.959999  351.339996  139.720001   \n",
       "2019-02-05  273.100006  79.769997  124.279999  355.809998  140.300003   \n",
       "\n",
       "                   IBM       AAPL       TSLA         VZ         GE  \n",
       "Date                                                                \n",
       "2019-01-30  128.470367  41.312500  20.584667  54.000000  54.644810  \n",
       "2019-01-31  128.508606  41.610001  20.468000  55.060001  61.010029  \n",
       "2019-02-01  128.202683  41.630001  20.813999  54.549999  61.190174  \n",
       "2019-02-04  129.244736  42.812500  20.859333  54.040001  61.310272  \n",
       "2019-02-05  129.588913  43.544998  21.423332  54.139999  63.832344  "
      ]
     },
     "execution_count": 57,
     "metadata": {},
     "output_type": "execute_result"
    }
   ],
   "source": [
    "data.head()"
   ]
  },
  {
   "cell_type": "markdown",
   "id": "3be4d669",
   "metadata": {},
   "source": [
    "### Compute the daily returns of each stock"
   ]
  },
  {
   "cell_type": "code",
   "execution_count": 58,
   "id": "66ac198b",
   "metadata": {},
   "outputs": [],
   "source": [
    "### Now we calcuate the returns of all the 10 stock prices data\n",
    "returns_data = data.pct_change(1)"
   ]
  },
  {
   "cell_type": "code",
   "execution_count": 59,
   "id": "7a5469ba",
   "metadata": {},
   "outputs": [
    {
     "data": {
      "text/html": [
       "<div>\n",
       "<style scoped>\n",
       "    .dataframe tbody tr th:only-of-type {\n",
       "        vertical-align: middle;\n",
       "    }\n",
       "\n",
       "    .dataframe tbody tr th {\n",
       "        vertical-align: top;\n",
       "    }\n",
       "\n",
       "    .dataframe thead th {\n",
       "        text-align: right;\n",
       "    }\n",
       "</style>\n",
       "<table border=\"1\" class=\"dataframe\">\n",
       "  <thead>\n",
       "    <tr style=\"text-align: right;\">\n",
       "      <th></th>\n",
       "      <th>SPY</th>\n",
       "      <th>BND</th>\n",
       "      <th>GLD</th>\n",
       "      <th>NFLX</th>\n",
       "      <th>VTI</th>\n",
       "      <th>IBM</th>\n",
       "      <th>AAPL</th>\n",
       "      <th>TSLA</th>\n",
       "      <th>VZ</th>\n",
       "      <th>GE</th>\n",
       "    </tr>\n",
       "    <tr>\n",
       "      <th>Date</th>\n",
       "      <th></th>\n",
       "      <th></th>\n",
       "      <th></th>\n",
       "      <th></th>\n",
       "      <th></th>\n",
       "      <th></th>\n",
       "      <th></th>\n",
       "      <th></th>\n",
       "      <th></th>\n",
       "      <th></th>\n",
       "    </tr>\n",
       "  </thead>\n",
       "  <tbody>\n",
       "    <tr>\n",
       "      <th>2019-01-30</th>\n",
       "      <td>NaN</td>\n",
       "      <td>NaN</td>\n",
       "      <td>NaN</td>\n",
       "      <td>NaN</td>\n",
       "      <td>NaN</td>\n",
       "      <td>NaN</td>\n",
       "      <td>NaN</td>\n",
       "      <td>NaN</td>\n",
       "      <td>NaN</td>\n",
       "      <td>NaN</td>\n",
       "    </tr>\n",
       "    <tr>\n",
       "      <th>2019-01-31</th>\n",
       "      <td>0.008782</td>\n",
       "      <td>0.004641</td>\n",
       "      <td>0.000481</td>\n",
       "      <td>-0.003405</td>\n",
       "      <td>0.008811</td>\n",
       "      <td>0.000298</td>\n",
       "      <td>0.007201</td>\n",
       "      <td>-0.005668</td>\n",
       "      <td>0.019630</td>\n",
       "      <td>0.116484</td>\n",
       "    </tr>\n",
       "    <tr>\n",
       "      <th>2019-02-01</th>\n",
       "      <td>0.000482</td>\n",
       "      <td>-0.005244</td>\n",
       "      <td>-0.002004</td>\n",
       "      <td>0.001031</td>\n",
       "      <td>0.001444</td>\n",
       "      <td>-0.002381</td>\n",
       "      <td>0.000481</td>\n",
       "      <td>0.016904</td>\n",
       "      <td>-0.009263</td>\n",
       "      <td>0.002953</td>\n",
       "    </tr>\n",
       "    <tr>\n",
       "      <th>2019-02-04</th>\n",
       "      <td>0.007035</td>\n",
       "      <td>-0.000879</td>\n",
       "      <td>-0.004337</td>\n",
       "      <td>0.033809</td>\n",
       "      <td>0.007136</td>\n",
       "      <td>0.008128</td>\n",
       "      <td>0.028405</td>\n",
       "      <td>0.002178</td>\n",
       "      <td>-0.009349</td>\n",
       "      <td>0.001963</td>\n",
       "    </tr>\n",
       "    <tr>\n",
       "      <th>2019-02-05</th>\n",
       "      <td>0.004192</td>\n",
       "      <td>0.002136</td>\n",
       "      <td>0.002581</td>\n",
       "      <td>0.012723</td>\n",
       "      <td>0.004151</td>\n",
       "      <td>0.002663</td>\n",
       "      <td>0.017109</td>\n",
       "      <td>0.027038</td>\n",
       "      <td>0.001850</td>\n",
       "      <td>0.041136</td>\n",
       "    </tr>\n",
       "  </tbody>\n",
       "</table>\n",
       "</div>"
      ],
      "text/plain": [
       "                 SPY       BND       GLD      NFLX       VTI       IBM  \\\n",
       "Date                                                                     \n",
       "2019-01-30       NaN       NaN       NaN       NaN       NaN       NaN   \n",
       "2019-01-31  0.008782  0.004641  0.000481 -0.003405  0.008811  0.000298   \n",
       "2019-02-01  0.000482 -0.005244 -0.002004  0.001031  0.001444 -0.002381   \n",
       "2019-02-04  0.007035 -0.000879 -0.004337  0.033809  0.007136  0.008128   \n",
       "2019-02-05  0.004192  0.002136  0.002581  0.012723  0.004151  0.002663   \n",
       "\n",
       "                AAPL      TSLA        VZ        GE  \n",
       "Date                                                \n",
       "2019-01-30       NaN       NaN       NaN       NaN  \n",
       "2019-01-31  0.007201 -0.005668  0.019630  0.116484  \n",
       "2019-02-01  0.000481  0.016904 -0.009263  0.002953  \n",
       "2019-02-04  0.028405  0.002178 -0.009349  0.001963  \n",
       "2019-02-05  0.017109  0.027038  0.001850  0.041136  "
      ]
     },
     "execution_count": 59,
     "metadata": {},
     "output_type": "execute_result"
    }
   ],
   "source": [
    "# Display the first five rows on the returns stock data\n",
    "returns_data.head()"
   ]
  },
  {
   "cell_type": "markdown",
   "id": "7ec6c0a9",
   "metadata": {},
   "source": [
    "### Create a Vector of equal weights of all the 10 stocks"
   ]
  },
  {
   "cell_type": "code",
   "execution_count": 60,
   "id": "94247ee1",
   "metadata": {},
   "outputs": [],
   "source": [
    "### Now lets calcuate the weights on each stock: Assume equal weighs\n",
    "num_stocks = len(returns_data.columns)\n",
    "weights = [1/num_stocks]*num_stocks"
   ]
  },
  {
   "cell_type": "code",
   "execution_count": 61,
   "id": "402b1b56",
   "metadata": {},
   "outputs": [
    {
     "name": "stdout",
     "output_type": "stream",
     "text": [
      "[0.1, 0.1, 0.1, 0.1, 0.1, 0.1, 0.1, 0.1, 0.1, 0.1]\n"
     ]
    }
   ],
   "source": [
    "## Lets display the list of weights:\n",
    "print(weights)"
   ]
  },
  {
   "cell_type": "markdown",
   "id": "efae70c1",
   "metadata": {},
   "source": [
    "### Variance Covariance Matrix computation"
   ]
  },
  {
   "cell_type": "code",
   "execution_count": 62,
   "id": "00b69416",
   "metadata": {},
   "outputs": [
    {
     "name": "stdout",
     "output_type": "stream",
     "text": [
      "           SPY       BND       GLD      NFLX       VTI       IBM      AAPL  \\\n",
      "SPY   0.000175  0.000010  0.000014  0.000182  0.000178  0.000143  0.000213   \n",
      "BND   0.000010  0.000018  0.000015  0.000017  0.000011  0.000005  0.000013   \n",
      "GLD   0.000014  0.000015  0.000089  0.000027  0.000015  0.000013  0.000017   \n",
      "NFLX  0.000182  0.000017  0.000027  0.000840  0.000186  0.000065  0.000270   \n",
      "VTI   0.000178  0.000011  0.000015  0.000186  0.000183  0.000145  0.000214   \n",
      "IBM   0.000143  0.000005  0.000013  0.000065  0.000145  0.000278  0.000146   \n",
      "AAPL  0.000213  0.000013  0.000017  0.000270  0.000214  0.000146  0.000400   \n",
      "TSLA  0.000266  0.000014  0.000029  0.000427  0.000283  0.000126  0.000398   \n",
      "VZ    0.000078  0.000006  0.000012  0.000052  0.000077  0.000094  0.000076   \n",
      "GE    0.000204  0.000002 -0.000005  0.000134  0.000212  0.000215  0.000196   \n",
      "\n",
      "          TSLA        VZ        GE  \n",
      "SPY   0.000266  0.000078  0.000204  \n",
      "BND   0.000014  0.000006  0.000002  \n",
      "GLD   0.000029  0.000012 -0.000005  \n",
      "NFLX  0.000427  0.000052  0.000134  \n",
      "VTI   0.000283  0.000077  0.000212  \n",
      "IBM   0.000126  0.000094  0.000215  \n",
      "AAPL  0.000398  0.000076  0.000196  \n",
      "TSLA  0.001656  0.000031  0.000247  \n",
      "VZ    0.000031  0.000175  0.000097  \n",
      "GE    0.000247  0.000097  0.000666  \n"
     ]
    }
   ],
   "source": [
    "## Now lets calculate the variance-covariance Matrix\n",
    "cov_matrix = returns_data.cov()\n",
    "print(cov_matrix)"
   ]
  },
  {
   "cell_type": "code",
   "execution_count": 64,
   "id": "92b3d8e9",
   "metadata": {},
   "outputs": [
    {
     "name": "stdout",
     "output_type": "stream",
     "text": [
      "0.00014820294008900523\n"
     ]
    }
   ],
   "source": [
    "### Now lets compute the daily portfolio variance\n",
    "var_p = np.dot(np.transpose(weights),np.dot(cov_matrix,weights))\n",
    "print(var_p)"
   ]
  },
  {
   "cell_type": "markdown",
   "id": "05730fb1",
   "metadata": {},
   "source": [
    "### Daily portfolio risk with equal weights"
   ]
  },
  {
   "cell_type": "code",
   "execution_count": 65,
   "id": "5480b01f",
   "metadata": {},
   "outputs": [
    {
     "name": "stdout",
     "output_type": "stream",
     "text": [
      "0.012173862989577516\n"
     ]
    }
   ],
   "source": [
    "### Lets now calculate the portfolio standard deviation\n",
    "std_p = np.sqrt(var_p)\n",
    "print(std_p)"
   ]
  },
  {
   "cell_type": "markdown",
   "id": "256e06f7",
   "metadata": {},
   "source": [
    "### Annual portfolio risk with equal weights"
   ]
  },
  {
   "cell_type": "code",
   "execution_count": 66,
   "id": "75182f2f",
   "metadata": {},
   "outputs": [
    {
     "name": "stdout",
     "output_type": "stream",
     "text": [
      "0.19248567484945808\n"
     ]
    }
   ],
   "source": [
    "annual_std_p = std_p*np.sqrt(250)\n",
    "print(annual_std_p)"
   ]
  },
  {
   "cell_type": "markdown",
   "id": "8bbcb64e",
   "metadata": {},
   "source": [
    "### Individual stock risks computation: Benchmark"
   ]
  },
  {
   "cell_type": "code",
   "execution_count": 68,
   "id": "0892043a",
   "metadata": {},
   "outputs": [
    {
     "name": "stdout",
     "output_type": "stream",
     "text": [
      "SPY     0.208865\n",
      "BND     0.067814\n",
      "GLD     0.148795\n",
      "NFLX    0.458115\n",
      "VTI     0.213801\n",
      "IBM     0.263342\n",
      "AAPL    0.316197\n",
      "TSLA    0.643092\n",
      "VZ      0.209321\n",
      "GE      0.407749\n",
      "dtype: float64\n"
     ]
    }
   ],
   "source": [
    "### Lets now compute the individual risks\n",
    "df =np.std(returns_data)*np.sqrt(250)\n",
    "print(df)"
   ]
  },
  {
   "cell_type": "code",
   "execution_count": null,
   "id": "ac06f1d3",
   "metadata": {},
   "outputs": [],
   "source": []
  }
 ],
 "metadata": {
  "kernelspec": {
   "display_name": "Python 3 (ipykernel)",
   "language": "python",
   "name": "python3"
  },
  "language_info": {
   "codemirror_mode": {
    "name": "ipython",
    "version": 3
   },
   "file_extension": ".py",
   "mimetype": "text/x-python",
   "name": "python",
   "nbconvert_exporter": "python",
   "pygments_lexer": "ipython3",
   "version": "3.9.18"
  }
 },
 "nbformat": 4,
 "nbformat_minor": 5
}
